{
 "cells": [
  {
   "cell_type": "markdown",
   "metadata": {},
   "source": [
    "Setup"
   ]
  },
  {
   "cell_type": "code",
   "execution_count": 1,
   "metadata": {},
   "outputs": [],
   "source": [
    "import os"
   ]
  },
  {
   "cell_type": "code",
   "execution_count": 2,
   "metadata": {},
   "outputs": [],
   "source": [
    "import numpy as np\n",
    "import pandas as pd\n",
    "import matplotlib.pyplot as plt"
   ]
  },
  {
   "cell_type": "code",
   "execution_count": 3,
   "metadata": {},
   "outputs": [],
   "source": [
    "import nltk\n",
    "import string\n",
    "import re\n",
    "from nltk import word_tokenize, FreqDist,regexp_tokenize\n",
    "from nltk.corpus import stopwords\n",
    "from nltk.stem import WordNetLemmatizer, SnowballStemmer,PorterStemmer\n",
    "from sklearn.feature_extraction.text import TfidfVectorizer"
   ]
  },
  {
   "cell_type": "code",
   "execution_count": 4,
   "metadata": {},
   "outputs": [],
   "source": [
    "from sklearn.cluster import AgglomerativeClustering, KMeans, AffinityPropagation\n",
    "from sklearn.cluster import DBSCAN, OPTICS,MeanShift\n",
    "from scipy.cluster.hierarchy import dendrogram,linkage"
   ]
  },
  {
   "cell_type": "code",
   "execution_count": 5,
   "metadata": {},
   "outputs": [],
   "source": [
    "from bs4 import BeautifulSoup as bs\n",
    "from itertools import takewhile\n",
    "import requests\n",
    "import json"
   ]
  },
  {
   "cell_type": "code",
   "execution_count": 8,
   "metadata": {},
   "outputs": [],
   "source": [
    "%run Functionality.py"
   ]
  },
  {
   "cell_type": "markdown",
   "metadata": {},
   "source": [
    "EDA"
   ]
  },
  {
   "cell_type": "markdown",
   "metadata": {},
   "source": [
    "Stock Price Correlations"
   ]
  },
  {
   "cell_type": "markdown",
   "metadata": {},
   "source": [
    "Dataframes for Correlations of Daily Changes (Absolute & Relative to Benchmark)"
   ]
  },
  {
   "cell_type": "code",
   "execution_count": null,
   "metadata": {},
   "outputs": [],
   "source": [
    "daily_prices,abs_data,rel_data=collect_market_data(Universe.index)"
   ]
  },
  {
   "cell_type": "markdown",
   "metadata": {},
   "source": [
    "Look @ Some Heatmaps of Correlations"
   ]
  },
  {
   "cell_type": "code",
   "execution_count": null,
   "metadata": {},
   "outputs": [],
   "source": [
    "sns.heatmap(rel_data[1],vmin=-1,vmax=1,cmap='RdBu');"
   ]
  },
  {
   "cell_type": "code",
   "execution_count": null,
   "metadata": {},
   "outputs": [],
   "source": [
    "fig,ax=plt.subplots(ncols=5,nrows=2,figsize=(20,20))\n",
    "axes=ax.reshape(-1)\n",
    "i=0\n",
    "for y in years:\n",
    "    a=axes[i]\n",
    "    a.set_title(y)\n",
    "    corr_mat=rel_data[2].xs(y+'-12-31')\n",
    "    mask = np.zeros_like(corr_mat)\n",
    "    mask[np.triu_indices_from(mask)] = True\n",
    "    sns.heatmap(corr_mat,mask=mask,ax=a,vmin=-1,vmax=1,cbar=False,cmap='RdBu')\n",
    "    i+=1"
   ]
  },
  {
   "cell_type": "markdown",
   "metadata": {},
   "source": [
    "Given the number of time series in this dataset, it is tough to make any inferences with this visualization.  Let's look @ a different visualization technique..."
   ]
  },
  {
   "cell_type": "code",
   "execution_count": null,
   "metadata": {},
   "outputs": [],
   "source": [
    "fig,axes=plt.subplots(ncols=5,nrows=2,figsize=(25,10))\n",
    "axes=axes.reshape(-1)\n",
    "i=0\n",
    "for yr in years:\n",
    "    Sigma=rel_annual_corr.xs(yr+'-12-31')\n",
    "    Tops=filter_decile(Sigma,0.8)\n",
    "    G=graphx.Graph()\n",
    "    G.add_nodes_from(Tops.index)\n",
    "    colors=[]\n",
    "    a=axes[i]\n",
    "    a.set_title(yr)\n",
    "    for tick_a in G.nodes:\n",
    "        for tick_b in G.nodes:\n",
    "            p=Sigma[tick_a][tick_b]\n",
    "            if((tick_a!=tick_b) and abs(p)>0.25):\n",
    "                clr='green' if p>0 else 'red'\n",
    "                colors.append(clr)\n",
    "                G.add_edge(tick_a,tick_b,color=clr,weight=abs(p))\n",
    "            else:\n",
    "                pass\n",
    "                #print(tick_a,tick_b)\n",
    "    graphx.draw(G,with_labels=True,edge_color=colors,node_size=20,ax=a)\n",
    "    i+=1"
   ]
  }
 ],
 "metadata": {
  "kernelspec": {
   "display_name": "Python 3",
   "language": "python",
   "name": "python3"
  },
  "language_info": {
   "codemirror_mode": {
    "name": "ipython",
    "version": 3
   },
   "file_extension": ".py",
   "mimetype": "text/x-python",
   "name": "python",
   "nbconvert_exporter": "python",
   "pygments_lexer": "ipython3",
   "version": "3.8.5"
  }
 },
 "nbformat": 4,
 "nbformat_minor": 4
}
